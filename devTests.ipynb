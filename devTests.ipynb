{
 "cells": [
  {
   "cell_type": "code",
   "execution_count": 2,
   "id": "f6bfc92e-b9da-44c3-a291-3225913e95bd",
   "metadata": {},
   "outputs": [],
   "source": [
    "import numpy as np\n",
    "from sillyQuotes import getMsg\n",
    "\n",
    "def checkEx01(y):\n",
    "    corr = False\n",
    "    try:\n",
    "        t = np.linspace(0, 2*np.pi,100)\n",
    "        x = np.sin(t)\n",
    "        err = np.average((y-x)**2)\n",
    "        corr = err<1e-6\n",
    "        getMsg(corr)\n",
    "    except:\n",
    "        getMsg(corr)\n",
    "    return corr\n",
    "        \n",
    "def checkEx03(y):\n",
    "    x = np.arange(11)\n",
    "    corrSol = x[::-1]\n",
    "    corr = np.array_equal(y,corrSol)\n",
    "    getMsg(corr)\n",
    "    return corr\n",
    "\n",
    "\n",
    "def checkEx04(fun):\n",
    "    x = np.random.random(20)\n",
    "    y = fun(x)\n",
    "    corr = np.alltrue(np.isclose(y-1, x))\n",
    "    getMsg(corr)\n",
    "    return corr\n",
    "\n",
    "def checkEx05(fun):\n",
    "    x = abs(np.random.random(20))\n",
    "    y = fun(x)\n",
    "    corr = np.alltrue(np.isclose(y, 20*np.log10(x)))\n",
    "    getMsg(corr)\n",
    "    return corr\n",
    "\n",
    "def checkEx06(fun):\n",
    "    corr = True\n",
    "    for i in range(20):\n",
    "        x = abs(np.random.random(i))\n",
    "        print('checking: ', len(x))\n",
    "        corrVal = len(x)>10\n",
    "        outVal = fun(x) \n",
    "        if corrVal != outVal:\n",
    "            corr=False\n",
    "\n",
    "    getMsg(corr)\n",
    "    return corr\n",
    "\n"
   ]
  },
  {
   "cell_type": "code",
   "execution_count": 2,
   "id": "ca7a1efe-439e-4c0a-8296-7cf986e15aa7",
   "metadata": {},
   "outputs": [],
   "source": [
    "from checkLib import *"
   ]
  },
  {
   "cell_type": "code",
   "execution_count": 3,
   "id": "5cd5b265-ae42-449c-a790-afb6e5ae0b29",
   "metadata": {},
   "outputs": [],
   "source": [
    "import numpy as np"
   ]
  },
  {
   "cell_type": "code",
   "execution_count": 6,
   "id": "026b60ef-1f1a-41b2-a40a-d6a2e68c9ccc",
   "metadata": {},
   "outputs": [
    {
     "name": "stdout",
     "output_type": "stream",
     "text": [
      "yay, correct!\n"
     ]
    },
    {
     "data": {
      "text/plain": [
       "True"
      ]
     },
     "execution_count": 6,
     "metadata": {},
     "output_type": "execute_result"
    }
   ],
   "source": [
    "y = np.arange(11)\n",
    "y = y[::-1]\n",
    "checkEx01(y)"
   ]
  },
  {
   "cell_type": "code",
   "execution_count": null,
   "id": "c62f0b55-cbc3-4432-857f-52bed7e9f10b",
   "metadata": {},
   "outputs": [],
   "source": []
  },
  {
   "cell_type": "code",
   "execution_count": null,
   "id": "22c77b7a-514f-4e73-8dc2-4f984ffa5507",
   "metadata": {},
   "outputs": [],
   "source": []
  }
 ],
 "metadata": {
  "kernelspec": {
   "display_name": "Python 3 (ipykernel)",
   "language": "python",
   "name": "python3"
  },
  "language_info": {
   "codemirror_mode": {
    "name": "ipython",
    "version": 3
   },
   "file_extension": ".py",
   "mimetype": "text/x-python",
   "name": "python",
   "nbconvert_exporter": "python",
   "pygments_lexer": "ipython3",
   "version": "3.9.5"
  }
 },
 "nbformat": 4,
 "nbformat_minor": 5
}
