{
 "cells": [
  {
   "cell_type": "code",
   "execution_count": null,
   "id": "c96fddf9-ea3e-4d96-9328-126c2e1c4450",
   "metadata": {},
   "outputs": [],
   "source": [
    "# run this cell before starting!\n",
    "\n",
    "import numpy as np\n",
    "import matplotlib.pyplot as plt\n",
    "from checkLib import *"
   ]
  },
  {
   "cell_type": "markdown",
   "id": "1ecc840b-2967-4ffc-a793-c8a2f20d527b",
   "metadata": {},
   "source": [
    "## Ex 01\n",
    "Make a sine wave! Make an array of length 100 containing a sine signal. We want to have exactly one period of the sine wave in the array. Save it to the variable `y`.\n",
    "Plot the result!\n",
    "When finished, run `checkEx01(y)` to see if you did it correctly!\n",
    "(Plotting is not checked for)"
   ]
  },
  {
   "cell_type": "code",
   "execution_count": null,
   "id": "c48f016b-19ab-4ba9-8e3f-b5fdc4ad8ced",
   "metadata": {},
   "outputs": [],
   "source": [
    "checkEx01(y)"
   ]
  },
  {
   "cell_type": "markdown",
   "id": "735a9344-8b8b-4e37-a191-b737702274f3",
   "metadata": {},
   "source": [
    "## Ex 02\n",
    "Make the plot you already did again but this time as fancy and as correct as you can. Publication-ready.\n",
    "Here are some ideas:\n",
    "- labels\n",
    "- legend\n",
    "- grid\n",
    "- axis labels\n",
    "- use latex to describe the signal\n",
    "- resize the plot to your liking\n",
    "- give it a title\n",
    "etc.\n",
    "\n",
    "For this exercise there are no checks. Research online to find out how to do a fancy plot!\n",
    "(Google something like `matplotlib axis labels`, `matplotlib line styles` etc)"
   ]
  },
  {
   "cell_type": "markdown",
   "id": "02c0e0f8-6ba6-4596-bc68-5ea1953798c0",
   "metadata": {},
   "source": [
    "## Ex 03\n",
    "Create a numpy array containing the integer numbers from 0 to 10.\n",
    "Use a for loop to reverse the array into a new variable y. \n",
    "When finished, run `checkEx03(y)` to see if you did it correctly!"
   ]
  },
  {
   "cell_type": "code",
   "execution_count": null,
   "id": "183ed403-18bf-4605-9bb7-a84b033b7dce",
   "metadata": {},
   "outputs": [],
   "source": [
    "checkEx03(y)"
   ]
  },
  {
   "cell_type": "markdown",
   "id": "c65aa361-0040-43f0-91c0-ed9abf1af901",
   "metadata": {},
   "source": [
    "# Ex 04\n",
    "Write a function that adds 1 to its input. Call the function `addOne`. Pass the function to check04 by invoking `checkEx04(addOne)` to see if you made it."
   ]
  },
  {
   "cell_type": "code",
   "execution_count": null,
   "id": "e61367af-812e-4639-bc0c-fa73e5774530",
   "metadata": {},
   "outputs": [],
   "source": [
    "checkEx04(addOne)"
   ]
  },
  {
   "cell_type": "markdown",
   "id": "29c5bf00-686b-426b-9343-ddf0baedb0cb",
   "metadata": {},
   "source": [
    "# Ex 05\n",
    "Can you make a function (call it `aToDb`) that converts liner to decibels?\n",
    "Research the formula online if you don't know it already!\n",
    "\n",
    "Pass the function to check05 by invoking `checkEx05(aToDb)` to see if you made it."
   ]
  },
  {
   "cell_type": "code",
   "execution_count": null,
   "id": "ecd0943a-034e-448b-b239-dd090444f863",
   "metadata": {},
   "outputs": [],
   "source": [
    "checkEx05(aToDb)"
   ]
  },
  {
   "cell_type": "markdown",
   "id": "58492eab-dcdc-4794-b1bf-9b8e26fb5e5d",
   "metadata": {},
   "source": [
    "# Ex 06\n",
    "Can you write a function that checks if an array is longer than 10 elements?\n",
    "So, to be exact: It should return `True` if the input is longer than 10 elements. If it has 10 or less elements then it should return `False`.\n",
    "\n",
    "Let's call our function `isLong`.\n",
    "\n",
    "Pass the function to check06 by invoking `checkEx06(isLong)` to see if you made it."
   ]
  },
  {
   "cell_type": "code",
   "execution_count": null,
   "id": "a46d8e88-be16-4c5b-b8f0-5d458e7ac35b",
   "metadata": {},
   "outputs": [],
   "source": [
    "checkEx06(isLong)"
   ]
  },
  {
   "cell_type": "markdown",
   "id": "7e0dbcb5-153b-4cf1-a9c8-2d979168ec88",
   "metadata": {},
   "source": [
    "# Ex 07\n",
    "Can you make a function that outputs the value I put in, except if the input if greater than $1$ or less than $-1$?\n",
    "If the input is bigger than $1$ it shall output $1$. If the value is less than -1 it shall output $-1$.\n",
    "\n",
    "Let's state this mathematically as well:\n",
    "\n",
    "$$ f(x) = \n",
    "\\begin{cases}\n",
    "1 & \\text{if }  x\\ge 1 \\,, \\\\\n",
    "x & \\text{if } -1<x<1 \\,, \\\\ \n",
    "-1 & \\text{if } x \\le -1 \\,.\n",
    "\\end{cases}\n",
    "$$\n",
    "\n",
    "- Can you think of multiple ways of doing this?\n",
    "- Maybe with multiple if/else statements? Maybe without?\n",
    "- Is this description something we know in the audio context?\n",
    "\n",
    "As a bonus, you get a plot of your function when you check it with invoking:\n",
    "`checkEx07(myFunction)` (assuming you call your function `myFunction`)"
   ]
  },
  {
   "cell_type": "code",
   "execution_count": null,
   "id": "2a71bc9f-bcf7-44a9-806d-45d80a2bf7cb",
   "metadata": {},
   "outputs": [],
   "source": [
    "checkEx07(myFunction)"
   ]
  }
 ],
 "metadata": {
  "kernelspec": {
   "display_name": "Python 3 (ipykernel)",
   "language": "python",
   "name": "python3"
  },
  "language_info": {
   "codemirror_mode": {
    "name": "ipython",
    "version": 3
   },
   "file_extension": ".py",
   "mimetype": "text/x-python",
   "name": "python",
   "nbconvert_exporter": "python",
   "pygments_lexer": "ipython3",
   "version": "3.9.5"
  }
 },
 "nbformat": 4,
 "nbformat_minor": 5
}
